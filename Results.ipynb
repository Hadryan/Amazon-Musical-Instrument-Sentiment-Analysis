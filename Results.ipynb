{
 "cells": [
  {
   "cell_type": "markdown",
   "source": [
    "# Amazon Music Instrument Review Sentiment Analysis\n",
    "\n",
    "Classifies whether a review as positive, neutral, or negative.\n",
    "These classes were created by taking the feature \"rating\", which is on a scale of 1-5.\n",
    "* 1-2: Negative\n",
    "* 3: Neutral\n",
    "* 4-5: Positive"
   ],
   "metadata": {
    "collapsed": false
   }
  },
  {
   "cell_type": "markdown",
   "source": [
    "## The Approach\n",
    "The models I plan to use include Naive Bayes, Random Forest, XGBoost, and a LSTM\n",
    "\n",
    "I removed all features except for the rating (and changing the rating to my 3 custom classes) and combined the overall and summary features.\n",
    "\n",
    "After normalizing, filtering stop words, and tokenizing, I debated what to do next and decided on experimenting on whether lemmatization of the words would provide more accuracy or not.\n",
    "\n",
    "After either technique, I will put the text data through a Tf-idf vectorizor to them feed to my models.\n",
    "\n",
    "Each model will have their parameters tuned with a grid search."
   ],
   "metadata": {
    "collapsed": false,
    "pycharm": {
     "name": "#%% md\n"
    }
   }
  },
  {
   "cell_type": "code",
   "execution_count": 5,
   "outputs": [],
   "source": [
    "import pickle\n",
    "import seaborn as sns\n",
    "import plotly.graph_objs as go\n",
    "import matplotlib.pyplot as plt\n",
    "import matplotlib.style as style\n",
    "\n",
    "with open('Data/pickles/results_dict_no_lemma', 'rb') as file:\n",
    "    results_dict_no_lemma = pickle.load(file)"
   ],
   "metadata": {
    "collapsed": false,
    "pycharm": {
     "name": "#%%\n"
    }
   }
  },
  {
   "cell_type": "markdown",
   "source": [
    "## Without Lemmatization"
   ],
   "metadata": {
    "collapsed": false,
    "pycharm": {
     "name": "#%% md\n"
    }
   }
  },
  {
   "cell_type": "markdown",
   "source": [
    "### Naive Bayes"
   ],
   "metadata": {
    "collapsed": false,
    "pycharm": {
     "name": "#%% md\n"
    }
   }
  },
  {
   "cell_type": "code",
   "execution_count": 26,
   "outputs": [
    {
     "data": {
      "text/plain": "<matplotlib.axes._subplots.AxesSubplot at 0x7f8260359850>"
     },
     "execution_count": 26,
     "metadata": {},
     "output_type": "execute_result"
    },
    {
     "data": {
      "text/plain": "<Figure size 432x288 with 2 Axes>",
      "image/png": "[encoded data removed]"
     },
     "metadata": {
      "needs_background": "light"
     },
     "output_type": "display_data"
    }
   ],
   "source": [
    "sns.heatmap(results_dict_no_lemma['mnb']['acc'],\n",
    "            cmap='Blues',\n",
    "            cbar='False',\n",
    "            annot=True,\n",
    "            fmt='g',\n",
    "            xticklabels=['Negative', 'Neutral', 'Positive'],\n",
    "            yticklabels=['Negative', 'Neutral', 'Positive'])"
   ],
   "metadata": {
    "collapsed": false,
    "pycharm": {
     "name": "#%%\n"
    }
   }
  },
  {
   "cell_type": "markdown",
   "source": [
    "While the overall score is great, the actual accuracy is not. Due to the imbalance in classes, the model has trouble predicting neutral and negative reviews. It just happens to be that there are so many positive reviews that the score is still \"good\".\n",
    "\n",
    "I feel like this will be the typical trend for all my models."
   ],
   "metadata": {
    "collapsed": false,
    "pycharm": {
     "name": "#%% md\n"
    }
   }
  },
  {
   "cell_type": "markdown",
   "source": [
    "### Random Forest"
   ],
   "metadata": {
    "collapsed": false,
    "pycharm": {
     "name": "#%% md\n"
    }
   }
  },
  {
   "cell_type": "code",
   "execution_count": 6,
   "outputs": [
    {
     "data": {
      "text/plain": "<matplotlib.axes._subplots.AxesSubplot at 0x7f49dec7eb50>"
     },
     "execution_count": 6,
     "metadata": {},
     "output_type": "execute_result"
    },
    {
     "data": {
      "text/plain": "<Figure size 432x288 with 2 Axes>",
      "image/png": "[encoded data removed]"
     },
     "metadata": {
      "needs_background": "light"
     },
     "output_type": "display_data"
    }
   ],
   "source": [
    "sns.heatmap(results_dict_no_lemma['rf']['acc'],\n",
    "            cmap='Blues',\n",
    "            cbar='False',\n",
    "            annot=True,\n",
    "            fmt='g',\n",
    "            xticklabels=['Negative', 'Neutral', 'Positive'],\n",
    "            yticklabels=['Negative', 'Neutral', 'Positive'])"
   ],
   "metadata": {
    "collapsed": false,
    "pycharm": {
     "name": "#%%\n"
    }
   }
  },
  {
   "cell_type": "markdown",
   "source": [
    "So Random Forest wasn't able to classify any of the neutral or negative reviews, but was able to classify every positive review. I think this is only attributed to the model only picking positive, because if it was good at classifying positive reviews, then would it still classify negative and neutral as positive reviews?\n",
    "\n"
   ],
   "metadata": {
    "collapsed": false,
    "pycharm": {
     "name": "#%% md\n"
    }
   }
  }
 ],
 "metadata": {
  "kernelspec": {
   "display_name": "Python 3",
   "language": "python",
   "name": "python3"
  },
  "language_info": {
   "codemirror_mode": {
    "name": "ipython",
    "version": 2
   },
   "file_extension": ".py",
   "mimetype": "text/x-python",
   "name": "python",
   "nbconvert_exporter": "python",
   "pygments_lexer": "ipython2",
   "version": "2.7.6"
  }
 },
 "nbformat": 4,
 "nbformat_minor": 0
}